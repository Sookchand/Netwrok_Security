{
 "cells": [
  {
   "cell_type": "code",
   "execution_count": 5,
   "metadata": {},
   "outputs": [
    {
     "name": "stdout",
     "output_type": "stream",
     "text": [
      "Error reading train_data.csv: [Errno 2] No such file or directory: 'Artifacts/06_29_2021_12_00_00/data_ingestion/train_data.csv'\n"
     ]
    }
   ],
   "source": [
    "import pandas as pd\n",
    " # Read train_data.csv\n",
    "train_data_path = \"Artifacts/06_29_2021_12_00_00/data_ingestion/train_data.csv\"\n",
    "try:\n",
    "    train_data = pd.read_csv(train_data_path)\n",
    "    print(\"Train Data:\")\n",
    "    print(train_data.head())\n",
    "except Exception as e:\n",
    "    print(f\"Error reading train_data.csv: {e}\")"
   ]
  },
  {
   "cell_type": "code",
   "execution_count": null,
   "metadata": {},
   "outputs": [],
   "source": []
  }
 ],
 "metadata": {
  "kernelspec": {
   "display_name": "Python 3",
   "language": "python",
   "name": "python3"
  },
  "language_info": {
   "codemirror_mode": {
    "name": "ipython",
    "version": 3
   },
   "file_extension": ".py",
   "mimetype": "text/x-python",
   "name": "python",
   "nbconvert_exporter": "python",
   "pygments_lexer": "ipython3",
   "version": "3.10.0"
  }
 },
 "nbformat": 4,
 "nbformat_minor": 2
}
